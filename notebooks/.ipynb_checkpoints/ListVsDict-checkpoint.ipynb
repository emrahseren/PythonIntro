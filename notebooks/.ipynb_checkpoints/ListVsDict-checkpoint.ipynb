{
 "cells": [
  {
   "cell_type": "code",
   "execution_count": 1,
   "metadata": {},
   "outputs": [],
   "source": [
    "depresif = ['aldanma çocuksu mahsun yüzüne - Müslüm, pixels - Leprous', 'bitti mi - 110', 'some kind of a love song - Freak Kitchen']\n",
    "gaz      = ['breaking the law - Judas Priest', 'beyond this life - Dream Theater', 'wake up - RATM']\n",
    "mutlu    = ['consumed - Control Denied', 'spirit crusher - Death', 'jotun - In Flames']"
   ]
  },
  {
   "cell_type": "code",
   "execution_count": 4,
   "metadata": {},
   "outputs": [
    {
     "name": "stdout",
     "output_type": "stream",
     "text": [
      "Duygu durumunuzu seçiniz:\n",
      "1. Depresif\n",
      "2. Gaz lazım\n",
      "3. Mutlu\n",
      "> 2\n",
      "wake up - RATM\n"
     ]
    }
   ],
   "source": [
    "from random import randint, SystemRandom\n",
    "secure_random = SystemRandom()\n",
    "\n",
    "mood = input('Duygu durumunuzu seçiniz:\\n1. Depresif\\n2. Gaz lazım\\n3. Mutlu\\n> ')\n",
    "\n",
    "if mood == '1':\n",
    "    print(secure_random.choice(depresif))\n",
    "elif mood == '2':\n",
    "    print(secure_random.choice(gaz))\n",
    "elif mood == '3':\n",
    "    print(secure_random.choice(mutlu))\n",
    "else:\n",
    "    print('lütfen 1, 2 ya da 3 arasından seçiniz')"
   ]
  },
  {
   "cell_type": "code",
   "execution_count": null,
   "metadata": {},
   "outputs": [],
   "source": []
  }
 ],
 "metadata": {
  "kernelspec": {
   "display_name": "Python 3",
   "language": "python",
   "name": "python3"
  },
  "language_info": {
   "codemirror_mode": {
    "name": "ipython",
    "version": 3
   },
   "file_extension": ".py",
   "mimetype": "text/x-python",
   "name": "python",
   "nbconvert_exporter": "python",
   "pygments_lexer": "ipython3",
   "version": "3.5.2"
  }
 },
 "nbformat": 4,
 "nbformat_minor": 2
}
